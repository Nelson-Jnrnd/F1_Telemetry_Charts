{
 "cells": [
  {
   "cell_type": "code",
   "execution_count": 1,
   "metadata": {},
   "outputs": [],
   "source": [
    "import fastf1 as ff1\n",
    "import matplotlib.pyplot as plt\n",
    "import pandas as pd\n",
    "import numpy as np\n",
    "ff1.Cache.enable_cache('../cache')"
   ]
  },
  {
   "cell_type": "code",
   "execution_count": 31,
   "metadata": {},
   "outputs": [],
   "source": [
    "def get_loaded_session(year, round_number, id):\n",
    "    session = ff1.get_session(year, round_number, id)\n",
    "    session.load(laps = False, telemetry = False, weather = False, messages = False)\n",
    "    session.results['Location'] = session.event['Location']\n",
    "    return session.results\n",
    "\n",
    "def get_sessions_by_year(year):\n",
    "    quali_sessions = []\n",
    "    race_sessions = []\n",
    "    len_season = len(ff1.get_event_schedule(year))\n",
    "    for i in range(len_season):\n",
    "        try:\n",
    "            quali_sessions.append(get_loaded_session(year, i + 1, 'Q'))\n",
    "            race_sessions.append(get_loaded_session(year, i + 1, 'R'))\n",
    "        except:\n",
    "            print('Could not get results for round ' + str(i + 1) + ' of ' + str(year) + ' season')\n",
    "            pass\n",
    "    \n",
    "    return quali_sessions, race_sessions"
   ]
  },
  {
   "cell_type": "code",
   "execution_count": 32,
   "metadata": {},
   "outputs": [
    {
     "name": "stderr",
     "output_type": "stream",
     "text": [
      "core           INFO \tLoading data for Bahrain Grand Prix - Qualifying [v3.0.7]\n",
      "req            INFO \tUsing cached data for driver_info\n",
      "core           INFO \tFinished loading data for 20 drivers: ['1', '11', '16', '55', '14', '63', '44', '18', '31', '27', '4', '77', '24', '22', '23', '2', '20', '81', '21', '10']\n",
      "core           INFO \tLoading data for Bahrain Grand Prix - Race [v3.0.7]\n",
      "req            INFO \tUsing cached data for driver_info\n",
      "core           INFO \tFinished loading data for 20 drivers: ['1', '11', '14', '55', '44', '18', '63', '77', '10', '23', '22', '2', '20', '21', '27', '24', '4', '31', '16', '81']\n",
      "core           INFO \tLoading data for Saudi Arabian Grand Prix - Qualifying [v3.0.7]\n",
      "req            INFO \tUsing cached data for driver_info\n",
      "core           INFO \tFinished loading data for 20 drivers: ['11', '16', '14', '63', '55', '18', '31', '44', '81', '10', '27', '24', '20', '77', '1', '22', '23', '21', '4', '2']\n",
      "core           INFO \tLoading data for Saudi Arabian Grand Prix - Race [v3.0.7]\n",
      "req            INFO \tUsing cached data for driver_info\n",
      "core           INFO \tFinished loading data for 20 drivers: ['11', '1', '14', '63', '44', '55', '16', '31', '10', '20', '22', '27', '24', '21', '81', '2', '4', '77', '23', '18']\n",
      "core           INFO \tLoading data for Australian Grand Prix - Qualifying [v3.0.7]\n",
      "req            INFO \tUsing cached data for driver_info\n",
      "core           INFO \tFinished loading data for 20 drivers: ['1', '63', '44', '14', '55', '18', '16', '23', '10', '27', '31', '22', '4', '20', '21', '81', '24', '2', '77', '11']\n",
      "core           INFO \tLoading data for Australian Grand Prix - Race [v3.0.7]\n",
      "req            INFO \tUsing cached data for driver_info\n",
      "core           INFO \tFinished loading data for 20 drivers: ['1', '44', '14', '18', '11', '4', '27', '81', '24', '22', '77', '55', '10', '31', '21', '2', '20', '63', '23', '16']\n",
      "core           INFO \tLoading data for Azerbaijan Grand Prix - Qualifying [v3.0.7]\n",
      "req            INFO \tUsing cached data for driver_info\n",
      "core           INFO \tFinished loading data for 20 drivers: ['16', '1', '11', '55', '44', '14', '4', '22', '18', '81', '63', '31', '23', '77', '2', '24', '27', '20', '10', '21']\n",
      "core           INFO \tLoading data for Azerbaijan Grand Prix - Race [v3.0.7]\n",
      "req            INFO \tUsing cached data for driver_info\n",
      "core           INFO \tFinished loading data for 20 drivers: ['11', '1', '16', '14', '55', '44', '18', '63', '4', '22', '81', '23', '20', '10', '31', '2', '27', '77', '24', '21']\n",
      "core           INFO \tLoading data for Miami Grand Prix - Qualifying [v3.0.7]\n",
      "req            INFO \tUsing cached data for driver_info\n",
      "core           INFO \tFinished loading data for 20 drivers: ['11', '14', '55', '20', '10', '63', '16', '31', '1', '77', '23', '27', '44', '24', '21', '4', '22', '18', '81', '2']\n",
      "core           INFO \tLoading data for Miami Grand Prix - Race [v3.0.7]\n",
      "req            INFO \tUsing cached data for driver_info\n",
      "core           INFO \tFinished loading data for 20 drivers: ['1', '11', '14', '63', '55', '44', '16', '10', '31', '20', '22', '18', '77', '23', '27', '24', '4', '21', '81', '2']\n",
      "core           INFO \tLoading data for Monaco Grand Prix - Qualifying [v3.0.7]\n",
      "req            INFO \tUsing cached data for driver_info\n",
      "core           INFO \tFinished loading data for 20 drivers: ['1', '14', '16', '31', '55', '44', '10', '63', '22', '4', '81', '21', '23', '18', '77', '2', '20', '27', '24', '11']\n",
      "core           INFO \tLoading data for Monaco Grand Prix - Race [v3.0.7]\n",
      "req            INFO \tUsing cached data for driver_info\n",
      "core           INFO \tFinished loading data for 20 drivers: ['1', '14', '31', '44', '63', '16', '10', '55', '4', '81', '77', '21', '24', '23', '22', '11', '27', '2', '20', '18']\n",
      "core           INFO \tLoading data for Spanish Grand Prix - Qualifying [v3.0.7]\n",
      "req            INFO \tUsing cached data for driver_info\n",
      "core           INFO \tFinished loading data for 20 drivers: ['1', '55', '4', '10', '44', '18', '31', '27', '14', '81', '11', '63', '24', '21', '22', '77', '20', '23', '16', '2']\n",
      "core           INFO \tLoading data for Spanish Grand Prix - Race [v3.0.7]\n",
      "req            INFO \tUsing cached data for driver_info\n",
      "core           INFO \tFinished loading data for 20 drivers: ['1', '44', '63', '11', '55', '18', '14', '31', '24', '10', '16', '22', '81', '21', '27', '23', '4', '20', '77', '2']\n",
      "core           INFO \tLoading data for Canadian Grand Prix - Qualifying [v3.0.7]\n",
      "req            INFO \tUsing cached data for driver_info\n",
      "core           INFO \tFinished loading data for 20 drivers: ['1', '27', '14', '44', '63', '31', '4', '55', '81', '23', '16', '11', '18', '20', '77', '22', '10', '21', '2', '24']\n",
      "core           INFO \tLoading data for Canadian Grand Prix - Race [v3.0.7]\n",
      "req            INFO \tUsing cached data for driver_info\n",
      "core           INFO \tFinished loading data for 20 drivers: ['1', '14', '44', '16', '55', '11', '23', '31', '18', '77', '81', '10', '4', '22', '27', '24', '20', '21', '63', '2']\n",
      "core           INFO \tLoading data for Austrian Grand Prix - Qualifying [v3.0.7]\n",
      "req            INFO \tUsing cached data for driver_info\n",
      "core           INFO \tFinished loading data for 20 drivers: ['1', '16', '55', '4', '44', '18', '14', '27', '10', '23', '63', '31', '81', '77', '11', '22', '24', '2', '20', '21']\n",
      "core           INFO \tLoading data for Austrian Grand Prix - Race [v3.0.7]\n",
      "req            INFO \tUsing cached data for driver_info\n",
      "core           INFO \tFinished loading data for 20 drivers: ['1', '16', '11', '4', '14', '55', '63', '44', '18', '10', '23', '24', '2', '31', '77', '81', '21', '20', '22', '27']\n",
      "core           INFO \tLoading data for British Grand Prix - Qualifying [v3.0.7]\n",
      "req            INFO \tUsing cached data for driver_info\n",
      "core           INFO \tFinished loading data for 20 drivers: ['1', '4', '81', '16', '55', '63', '44', '23', '14', '10', '27', '18', '31', '2', '77', '11', '22', '24', '21', '20']\n",
      "core           INFO \tLoading data for British Grand Prix - Race [v3.0.7]\n",
      "req            INFO \tUsing cached data for driver_info\n",
      "core           INFO \tFinished loading data for 20 drivers: ['1', '4', '44', '81', '63', '11', '14', '23', '16', '55', '2', '77', '27', '18', '24', '22', '21', '10', '20', '31']\n",
      "core           INFO \tLoading data for Hungarian Grand Prix - Qualifying [v3.0.7]\n",
      "req            INFO \tUsing cached data for driver_info\n",
      "core           INFO \tFinished loading data for 20 drivers: ['44', '1', '4', '81', '24', '16', '77', '14', '11', '27', '55', '31', '3', '18', '10', '23', '22', '63', '20', '2']\n",
      "core           INFO \tLoading data for Hungarian Grand Prix - Race [v3.0.7]\n",
      "req            INFO \tUsing cached data for driver_info\n",
      "core           INFO \tFinished loading data for 20 drivers: ['1', '4', '11', '44', '81', '63', '16', '55', '14', '18', '23', '77', '3', '27', '22', '24', '20', '2', '31', '10']\n",
      "core           INFO \tLoading data for Belgian Grand Prix - Qualifying [v3.0.7]\n",
      "req            INFO \tUsing cached data for driver_info\n",
      "core           INFO \tFinished loading data for 20 drivers: ['1', '16', '11', '44', '55', '81', '4', '63', '14', '18', '22', '10', '20', '77', '31', '23', '24', '2', '3', '27']\n",
      "core           INFO \tLoading data for Belgian Grand Prix - Race [v3.0.7]\n",
      "req            INFO \tUsing cached data for driver_info\n",
      "core           INFO \tFinished loading data for 20 drivers: ['1', '11', '16', '44', '14', '63', '4', '31', '18', '22', '10', '77', '24', '23', '20', '3', '2', '27', '55', '81']\n",
      "core           INFO \tLoading data for Dutch Grand Prix - Qualifying [v3.0.7]\n",
      "req            INFO \tUsing cached data for driver_info\n",
      "core           INFO \tFinished loading data for 20 drivers: ['1', '4', '63', '23', '14', '55', '11', '81', '16', '2', '18', '10', '44', '22', '27', '24', '31', '20', '77', '40']\n",
      "core           INFO \tLoading data for Dutch Grand Prix - Race [v3.0.7]\n",
      "req            INFO \tUsing cached data for driver_info\n",
      "core           INFO \tFinished loading data for 20 drivers: ['1', '14', '10', '11', '55', '44', '4', '23', '81', '31', '18', '27', '40', '77', '22', '20', '63', '24', '16', '2']\n",
      "core           INFO \tLoading data for Italian Grand Prix - Qualifying [v3.0.7]\n",
      "req            INFO \tUsing cached data for driver_info\n",
      "core           INFO \tFinished loading data for 20 drivers: ['55', '1', '16', '63', '11', '23', '81', '44', '4', '14', '22', '40', '27', '77', '2', '24', '10', '31', '20', '18']\n",
      "core           INFO \tLoading data for Italian Grand Prix - Race [v3.0.7]\n",
      "req            INFO \tUsing cached data for driver_info\n",
      "core           INFO \tFinished loading data for 20 drivers: ['1', '11', '55', '16', '63', '44', '23', '4', '14', '77', '40', '81', '2', '24', '10', '18', '27', '20', '31', '22']\n",
      "core           INFO \tLoading data for Singapore Grand Prix - Qualifying [v3.0.7]\n",
      "req            INFO \tUsing cached data for driver_info\n",
      "core           INFO \tFinished loading data for 20 drivers: ['55', '63', '16', '4', '44', '20', '14', '31', '27', '40', '1', '10', '11', '23', '22', '77', '81', '2', '24', '18']\n",
      "core           INFO \tLoading data for Singapore Grand Prix - Race [v3.0.7]\n",
      "req            INFO \tUsing cached data for driver_info\n",
      "core           INFO \tFinished loading data for 20 drivers: ['55', '4', '44', '16', '1', '10', '81', '11', '40', '20', '23', '24', '27', '2', '14', '63', '77', '31', '22', '18']\n",
      "core           INFO \tLoading data for Japanese Grand Prix - Qualifying [v3.0.7]\n",
      "req            INFO \tUsing cached data for driver_info\n",
      "core           INFO \tFinished loading data for 20 drivers: ['1', '81', '4', '16', '11', '55', '44', '63', '22', '14', '40', '10', '23', '31', '20', '77', '18', '27', '24', '2']\n",
      "core           INFO \tLoading data for Japanese Grand Prix - Race [v3.0.7]\n",
      "req            INFO \tUsing cached data for driver_info\n",
      "core           INFO \tFinished loading data for 20 drivers: ['1', '4', '81', '16', '44', '55', '63', '14', '31', '10', '40', '22', '24', '27', '20', '23', '2', '18', '11', '77']\n",
      "core           INFO \tLoading data for Qatar Grand Prix - Qualifying [v3.0.7]\n",
      "req            INFO \tUsing cached data for driver_info\n",
      "core           INFO \tFinished loading data for 20 drivers: ['1', '63', '44', '14', '16', '81', '10', '31', '77', '4', '22', '55', '11', '23', '27', '2', '18', '40', '20', '24']\n",
      "core           INFO \tLoading data for Qatar Grand Prix - Race [v3.0.7]\n",
      "req            INFO \tUsing cached data for driver_info\n",
      "core           INFO \tFinished loading data for 20 drivers: ['1', '81', '4', '63', '16', '14', '31', '77', '24', '11', '18', '10', '23', '20', '22', '27', '40', '2', '44', '55']\n",
      "core           INFO \tLoading data for United States Grand Prix - Qualifying [v3.0.7]\n",
      "req            INFO \tUsing cached data for driver_info\n",
      "core           INFO \tFinished loading data for 20 drivers: ['16', '4', '44', '55', '63', '1', '10', '31', '11', '81', '22', '24', '77', '20', '3', '27', '14', '23', '18', '2']\n",
      "core           INFO \tLoading data for United States Grand Prix - Race [v3.0.7]\n",
      "req            INFO \tUsing cached data for driver_info\n",
      "core           INFO \tFinished loading data for 20 drivers: ['1', '4', '55', '11', '63', '10', '18', '22', '23', '2', '27', '77', '24', '20', '3', '14', '81', '31', '44', '16']\n",
      "core           INFO \tLoading data for Mexico City Grand Prix - Qualifying [v3.0.7]\n",
      "req            INFO \tUsing cached data for driver_info\n",
      "core           INFO \tFinished loading data for 20 drivers: ['16', '55', '1', '3', '11', '44', '81', '63', '77', '24', '10', '27', '14', '23', '22', '31', '20', '18', '4', '2']\n",
      "core           INFO \tLoading data for Mexico City Grand Prix - Race [v3.0.7]\n",
      "req            INFO \tUsing cached data for driver_info\n",
      "core           INFO \tFinished loading data for 20 drivers: ['1', '44', '16', '55', '4', '63', '3', '81', '23', '31', '10', '22', '27', '24', '77', '2', '18', '14', '20', '11']\n",
      "core           INFO \tLoading data for São Paulo Grand Prix - Qualifying [v3.0.7]\n",
      "req            INFO \tUsing cached data for driver_info\n",
      "core           INFO \tFinished loading data for 20 drivers: ['1', '16', '18', '14', '44', '63', '4', '55', '11', '81', '27', '31', '10', '20', '23', '22', '3', '77', '2', '24']\n",
      "core           INFO \tLoading data for São Paulo Grand Prix - Race [v3.0.7]\n",
      "req            INFO \tUsing cached data for driver_info\n",
      "core           INFO \tFinished loading data for 20 drivers: ['1', '4', '14', '11', '18', '55', '10', '44', '22', '31', '2', '27', '3', '81', '63', '77', '24', '20', '23', '16']\n",
      "core           INFO \tLoading data for Las Vegas Grand Prix - Qualifying [v3.0.7]\n",
      "req            INFO \tUsing cached data for driver_info\n",
      "core           INFO \tFinished loading data for 20 drivers: ['16', '55', '1', '63', '10', '23', '2', '77', '20', '14', '44', '11', '27', '18', '3', '4', '31', '24', '81', '22']\n",
      "core           INFO \tLoading data for Las Vegas Grand Prix - Race [v3.0.7]\n",
      "req            INFO \tNo cached data found for driver_info. Loading data...\n",
      "_api           INFO \tFetching driver list...\n",
      "core        WARNING \tFailed to load extended driver information!\n",
      "core           INFO \tFinished loading data for 20 drivers: ['1', '16', '11', '31', '18', '55', '44', '63', '14', '81', '10', '23', '20', '3', '24', '2', '77', '22', '27', '4']\n",
      "core           INFO \tLoading data for Abu Dhabi Grand Prix - Qualifying [v3.0.7]\n",
      "req            INFO \tUsing cached data for driver_info\n",
      "core           INFO \tFinished loading data for 20 drivers: ['1', '16', '81', '63', '4', '22', '14', '27', '11', '10', '44', '31', '18', '23', '3', '55', '20', '77', '24', '2']\n",
      "core           INFO \tLoading data for Abu Dhabi Grand Prix - Race [v3.0.7]\n",
      "req            INFO \tUsing cached data for driver_info\n",
      "core           INFO \tFinished loading data for 20 drivers: ['1', '16', '63', '11', '4', '81', '14', '22', '44', '18', '3', '31', '10', '23', '27', '2', '24', '55', '77', '20']\n"
     ]
    },
    {
     "name": "stdout",
     "output_type": "stream",
     "text": [
      "Could not get results for round 23 of 2023 season\n"
     ]
    }
   ],
   "source": [
    "quali, race = get_sessions_by_year(2023)"
   ]
  },
  {
   "cell_type": "markdown",
   "metadata": {},
   "source": [
    "# Test on first race"
   ]
  },
  {
   "cell_type": "code",
   "execution_count": 33,
   "metadata": {},
   "outputs": [],
   "source": [
    "alpine_quali = [(q.query('DriverNumber == \"31\"'), q.query('DriverNumber == \"10\"')) for q in quali]\n",
    "\n",
    "alpine_race = [(r.query('DriverNumber == \"31\"'), r.query('DriverNumber == \"10\"')) for r in race]\n"
   ]
  },
  {
   "cell_type": "code",
   "execution_count": 53,
   "metadata": {},
   "outputs": [
    {
     "data": {
      "text/plain": [
       "92.181"
      ]
     },
     "execution_count": 53,
     "metadata": {},
     "output_type": "execute_result"
    }
   ],
   "source": [
    "alpine_quali[0][1]['Q1'][0].total_seconds()"
   ]
  },
  {
   "cell_type": "code",
   "execution_count": 43,
   "metadata": {},
   "outputs": [],
   "source": []
  },
  {
   "cell_type": "code",
   "execution_count": 59,
   "metadata": {},
   "outputs": [],
   "source": [
    "alpine_q = pd.DataFrame()\n",
    "for (ocon, gasly) in alpine_quali:\n",
    "    oco_time = np.NaN\n",
    "    gas_time = np.NaN\n",
    "    if not (pd.isnull(ocon['Q3']).any()) and not (pd.isnull(gasly['Q3']).any()):\n",
    "        oco_time = ocon['Q3'][0].total_seconds()\n",
    "        gas_time = gasly['Q3'][0].total_seconds()\n",
    "    elif not (pd.isnull(ocon['Q2']).any()) and not (pd.isnull(gasly['Q2']).any()):\n",
    "        oco_time = ocon['Q2'][0].total_seconds()\n",
    "        gas_time = gasly['Q2'][0].total_seconds()\n",
    "    elif not (pd.isnull(ocon['Q1']).any()) and not (pd.isnull(gasly['Q1']).any()):\n",
    "        oco_time = ocon['Q1'][0].total_seconds()\n",
    "        gas_time = gasly['Q1'][0].total_seconds()\n",
    "    sample = {\n",
    "        'OconResult' : ocon['Position'][0],\n",
    "        'GaslyResult' : gasly['Position'][0],\n",
    "        'OconTime' : oco_time,\n",
    "        'GaslyTime' : gas_time\n",
    "    }\n",
    "    alpine_q[ocon['Location'][0]] = pd.Series(sample)\n",
    "\n",
    "alpine_q = alpine_q.transpose()"
   ]
  },
  {
   "cell_type": "code",
   "execution_count": 70,
   "metadata": {},
   "outputs": [
    {
     "data": {
      "text/plain": [
       "Sakhir                9.0\n",
       "Jeddah                7.0\n",
       "Melbourne            11.0\n",
       "Baku                 12.0\n",
       "Miami                 8.0\n",
       "Monaco                4.0\n",
       "Barcelona             7.0\n",
       "Montréal              6.0\n",
       "Spielberg            12.0\n",
       "Silverstone          13.0\n",
       "Budapest             12.0\n",
       "Spa-Francorchamps    15.0\n",
       "Zandvoort            17.0\n",
       "Monza                18.0\n",
       "Marina Bay            8.0\n",
       "Suzuka               14.0\n",
       "Lusail                8.0\n",
       "Austin                8.0\n",
       "Mexico City          16.0\n",
       "São Paulo            12.0\n",
       "Las Vegas            17.0\n",
       "Yas Island           12.0\n",
       "Name: OconResult, dtype: float64"
      ]
     },
     "execution_count": 70,
     "metadata": {},
     "output_type": "execute_result"
    }
   ],
   "source": [
    "alpine_q['OconResult']"
   ]
  },
  {
   "cell_type": "code",
   "execution_count": 155,
   "metadata": {},
   "outputs": [
    {
     "data": {
      "image/png": "[encoded data removed]",
      "text/plain": [
       "<Figure size 640x480 with 1 Axes>"
      ]
     },
     "metadata": {},
     "output_type": "display_data"
    }
   ],
   "source": [
    "from matplotlib.collections import LineCollection\n",
    "\n",
    "fig, ax = plt.subplots()\n",
    "\n",
    "ax.vlines(alpine_q.index, alpine_q['OconResult'], alpine_q['GaslyResult'])\n",
    "\n",
    "ax.plot(alpine_q['OconResult'], 'o', label='Ocon', color='cornflowerblue')\n",
    "ax.plot(alpine_q['GaslyResult'], 'o', label='Gasly', color='lightcoral')\n",
    "\n",
    "ax.grid()\n",
    "ax.set_yticks(np.arange(0, 21, 1)[1:])\n",
    "ax.set_ylim([4, 20])\n",
    "ax.invert_yaxis()\n",
    "plt.legend()\n",
    "plt.xticks(rotation=90)\n",
    "plt.show()"
   ]
  },
  {
   "cell_type": "code",
   "execution_count": 145,
   "metadata": {},
   "outputs": [
    {
     "data": {
      "image/png": "[encoded data removed]",
      "text/plain": [
       "<Figure size 640x480 with 2 Axes>"
      ]
     },
     "metadata": {},
     "output_type": "display_data"
    }
   ],
   "source": [
    "import numpy as np\n",
    "import pandas as pd\n",
    "import matplotlib.pyplot as plt\n",
    "from matplotlib.collections import LineCollection\n",
    "\n",
    "# Assuming alpine_q is your DataFrame with indices and two columns: 'OconResult' and 'GaslyResult'\n",
    "# Example DataFrame\n",
    "np.random.seed(0)  # For reproducible results\n",
    "alpine_q = pd.DataFrame({\n",
    "    'OconResult': np.random.rand(5) * 100,\n",
    "    'GaslyResult': np.random.rand(5) * 100,\n",
    "})\n",
    "\n",
    "fig, ax = plt.subplots()\n",
    "\n",
    "for index, row in alpine_q.iterrows():\n",
    "    # Define the start and end points for the vertical lines\n",
    "    x = [index, index]\n",
    "    y = [row['OconResult'], row['GaslyResult']]\n",
    "    \n",
    "    # Generate the points along the line (including start and end)\n",
    "    points = np.array([x, y]).T.reshape(-1, 1, 2)\n",
    "    segments = np.concatenate([points[:-1], points[1:]], axis=1)\n",
    "    \n",
    "    # Create a LineCollection\n",
    "    lc = LineCollection(segments, cmap='coolwarm', norm=plt.Normalize(0, 100))\n",
    "    \n",
    "    # Set the LineCollection's array to the y-values (heights) of your points to control the color\n",
    "    lc.set_array(np.array(y))\n",
    "    \n",
    "    # Add the LineCollection to the axes\n",
    "    ax.add_collection(lc)\n",
    "\n",
    "# Set the colorbar to represent the height values\n",
    "cbar = plt.colorbar(lc)\n",
    "cbar.set_label('Height')\n",
    "\n",
    "# Setting the plot limits\n",
    "ax.autoscale()\n",
    "ax.margins(0.1)\n",
    "plt.show()\n"
   ]
  },
  {
   "cell_type": "code",
   "execution_count": null,
   "metadata": {},
   "outputs": [],
   "source": []
  },
  {
   "cell_type": "code",
   "execution_count": null,
   "metadata": {},
   "outputs": [],
   "source": []
  }
 ],
 "metadata": {
  "kernelspec": {
   "display_name": "gpt",
   "language": "python",
   "name": "python3"
  },
  "language_info": {
   "codemirror_mode": {
    "name": "ipython",
    "version": 3
   },
   "file_extension": ".py",
   "mimetype": "text/x-python",
   "name": "python",
   "nbconvert_exporter": "python",
   "pygments_lexer": "ipython3",
   "version": "3.1.0"
  }
 },
 "nbformat": 4,
 "nbformat_minor": 2
}
