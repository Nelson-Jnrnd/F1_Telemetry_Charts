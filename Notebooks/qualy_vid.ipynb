{
 "cells": [
  {
   "cell_type": "code",
   "execution_count": 1,
   "metadata": {},
   "outputs": [],
   "source": [
    "import matplotlib.pyplot as plt\n",
    "import pandas as pd\n",
    "import numpy as np\n",
    "import fastf1 as ff1\n",
    "ff1.Cache.enable_cache('../cache')"
   ]
  },
  {
   "cell_type": "code",
   "execution_count": 6,
   "metadata": {},
   "outputs": [],
   "source": [
    "# Load Abu Dhabi 2023 qualifying data from Ocon and Gasly\n",
    "abu_dhabi_2023_qualifying = ff1.get_event(2023, 'abudhabi').get_qualifying()"
   ]
  },
  {
   "cell_type": "code",
   "execution_count": 9,
   "metadata": {},
   "outputs": [
    {
     "name": "stderr",
     "output_type": "stream",
     "text": [
      "core           INFO \tLoading data for Abu Dhabi Grand Prix - Qualifying [v3.0.7]\n",
      "req            INFO \tUsing cached data for driver_info\n",
      "req            INFO \tNo cached data found for session_status_data. Loading data...\n",
      "_api           INFO \tFetching session status data...\n",
      "req            INFO \tData has been written to cache!\n",
      "req            INFO \tNo cached data found for track_status_data. Loading data...\n",
      "_api           INFO \tFetching track status data...\n",
      "req            INFO \tData has been written to cache!\n",
      "req            INFO \tNo cached data found for timing_data. Loading data...\n",
      "_api           INFO \tFetching timing data...\n",
      "_api           INFO \tParsing timing data...\n",
      "req            INFO \tData has been written to cache!\n",
      "req            INFO \tNo cached data found for timing_app_data. Loading data...\n",
      "_api           INFO \tFetching timing app data...\n",
      "req            INFO \tData has been written to cache!\n",
      "core           INFO \tProcessing timing data...\n",
      "req            INFO \tNo cached data found for car_data. Loading data...\n",
      "_api           INFO \tFetching car data...\n",
      "_api           INFO \tParsing car data...\n",
      "req            INFO \tData has been written to cache!\n",
      "req            INFO \tNo cached data found for position_data. Loading data...\n",
      "_api           INFO \tFetching position data...\n",
      "_api           INFO \tParsing position data...\n",
      "req            INFO \tData has been written to cache!\n",
      "req            INFO \tNo cached data found for weather_data. Loading data...\n",
      "_api           INFO \tFetching weather data...\n",
      "req            INFO \tData has been written to cache!\n",
      "req            INFO \tNo cached data found for race_control_messages. Loading data...\n",
      "_api           INFO \tFetching race control messages...\n",
      "req            INFO \tData has been written to cache!\n",
      "core           INFO \tFinished loading data for 20 drivers: ['1', '16', '81', '63', '4', '22', '14', '27', '11', '10', '44', '31', '18', '23', '3', '55', '20', '77', '24', '2']\n"
     ]
    }
   ],
   "source": [
    "abu_dhabi_2023_qualifying.load()"
   ]
  },
  {
   "cell_type": "code",
   "execution_count": 22,
   "metadata": {},
   "outputs": [
    {
     "name": "stdout",
     "output_type": "stream",
     "text": [
      "Ocon Q1    0 days 00:01:24.565000\n",
      "Q2    0 days 00:01:24.391000\n",
      "Q3                       NaT\n",
      "Name: 31, dtype: object\n",
      "Gasly Q1    0 days 00:01:24.600000\n",
      "Q2    0 days 00:01:24.078000\n",
      "Q3    0 days 00:01:24.548000\n",
      "Name: 10, dtype: object\n"
     ]
    }
   ],
   "source": [
    "print('Ocon', abu_dhabi_2023_qualifying.get_driver('OCO').get(['Q1', 'Q2', 'Q3']))\n",
    "print('Gasly', abu_dhabi_2023_qualifying.get_driver('GAS').get(['Q1', 'Q2', 'Q3']))"
   ]
  },
  {
   "cell_type": "code",
   "execution_count": 26,
   "metadata": {},
   "outputs": [],
   "source": [
    "ocon_lap = abu_dhabi_2023_qualifying.laps.query('Driver == \"OCO\"').pick_fastest()\n",
    "gasly_lap = abu_dhabi_2023_qualifying.laps.query('Driver == \"GAS\"').pick_fastest()"
   ]
  },
  {
   "cell_type": "code",
   "execution_count": 277,
   "metadata": {},
   "outputs": [],
   "source": [
    "reference_lap = abu_dhabi_2023_qualifying.laps.pick_fastest()\n",
    "reference_pos = reference_lap.get_pos_data()"
   ]
  },
  {
   "cell_type": "markdown",
   "metadata": {},
   "source": [
    "# Analysing Ocon data\n",
    "We need to have similar number of samples for both drivers. Firstly I see that the sample rate seems to be around every 3 tenths."
   ]
  },
  {
   "cell_type": "code",
   "execution_count": 37,
   "metadata": {},
   "outputs": [],
   "source": [
    "sampler = np.arange(0, 85, 0.3) # Sampler from 0s to 1 min 25 every 3 tenths\n",
    "sampler = [pd.to_timedelta(sample, 'S') for sample in sampler]"
   ]
  },
  {
   "cell_type": "code",
   "execution_count": 88,
   "metadata": {},
   "outputs": [],
   "source": [
    "ocon_pos = ocon_lap.get_pos_data()\n",
    "gasly_pos = gasly_lap.get_pos_data()\n",
    "\n",
    "\n",
    "oco_idx = ocon_pos.set_index(ocon_pos['Time']).index.get_indexer(sampler, method='ffill')\n",
    "gas_idx = gasly_pos.set_index(gasly_pos['Time']).index.get_indexer(sampler, method='ffill')\n",
    "\n",
    "ocon_pos = ocon_pos.loc[oco_idx]\n",
    "gasly_pos = gasly_pos.loc[gas_idx]\n",
    "\n",
    "ocon_pos = ocon_pos.set_index(ocon_pos['Time'])\n",
    "ocon_pos = ocon_pos[['X', 'Y', 'Z',]]\n",
    "\n",
    "gasly_pos = gasly_pos.set_index(gasly_pos['Time'])\n",
    "gasly_pos = gasly_pos[['X', 'Y', 'Z',]]"
   ]
  },
  {
   "cell_type": "code",
   "execution_count": 156,
   "metadata": {},
   "outputs": [
    {
     "name": "stdout",
     "output_type": "stream",
     "text": [
      "84.378of10000 0002of10000 \r"
     ]
    }
   ],
   "source": [
    "\"\"\" i = 0\n",
    "for (idx, pos) in ocon_pos.iterrows():\n",
    "    i += 1\n",
    "    x = pos['X']\n",
    "    y = pos['Y']\n",
    "    z = pos['Z']\n",
    "    t = idx.total_seconds()\n",
    "\n",
    "    fig = plt.figure(figsize=(5,5))\n",
    "    ax = fig.add_subplot(111, projection='3d')\n",
    "    ax.set_title('t = {:0.3f} seconds'.format(t))\n",
    "    ax.set_xlabel(\"x\")\n",
    "    ax.set_ylabel(\"y\")\n",
    "    ax.set_zlabel(\"z\")\n",
    "\n",
    "    ax.set_xlim3d([-500 + x, 1500 + x])\n",
    "    ax.set_ylim3d([-1250 + y, 3375 + y])\n",
    "    ax.set_zlim3d([-500 + z, 1500 + z])\n",
    "    ax.set_axis_off()\n",
    "\n",
    "    ax.plot(ocon_pos['X'], ocon_pos['Y'], ocon_pos['Z'])\n",
    "\n",
    "    ax.plot(x, y, z, 'b-', alpha=0.3, markersize = 2, marker='.', markerfacecolor=(1, 0, 0, 1), mec='red', markevery=[-1, 0], lw=0.5)\n",
    "    ax.view_init(10, -50)\n",
    "    fig.savefig('./vid_img/abudhabi_follow/{:05d}.jpg'.format(int(t * 1000)), dpi=256)\n",
    "    #plt.show()\n",
    "    plt.close()\n",
    "    print(\"{}of{} \\r\".format(t,10000), end=\"\") \"\"\""
   ]
  },
  {
   "cell_type": "markdown",
   "metadata": {},
   "source": [
    "Resample version to improve quality"
   ]
  },
  {
   "cell_type": "code",
   "execution_count": 205,
   "metadata": {},
   "outputs": [],
   "source": [
    "ocon_pos_resampled = ocon_pos.resample('0.05S').mean()\n",
    "ocon_pos_resampled = ocon_pos_resampled.interpolate(method='time')\n",
    "\n",
    "gasly_pos_resampled = gasly_pos.resample('0.05S').mean().interpolate(method='time')"
   ]
  },
  {
   "cell_type": "code",
   "execution_count": 313,
   "metadata": {},
   "outputs": [],
   "source": [
    "#merge ocon and gasly laps\n",
    "sampler = np.arange(0, 85, 0.05) # Sampler from 0s to 1 min 25 every 0.5 tenths\n",
    "sampler = [pd.to_timedelta(sample, 'S') for sample in sampler]\n",
    "\n",
    "oco_idx = ocon_pos_resampled.index.get_indexer(sampler, method='ffill')\n",
    "gas_idx = gasly_pos_resampled.index.get_indexer(sampler, method='ffill')\n",
    "\n",
    "ocon_pos = ocon_pos_resampled.iloc[oco_idx]\n",
    "gasly_pos = gasly_pos_resampled.iloc[gas_idx]\n",
    "\n",
    "ocon_pos.reset_index(inplace=True)\n",
    "gasly_pos.reset_index(inplace=True)"
   ]
  },
  {
   "cell_type": "code",
   "execution_count": 320,
   "metadata": {},
   "outputs": [
    {
     "name": "stderr",
     "output_type": "stream",
     "text": [
      "/var/folders/q1/q9_ky6lj68g7kv_5x5_pd9jw0000gp/T/ipykernel_36129/4268212721.py:1: SettingWithCopyWarning: \n",
      "A value is trying to be set on a copy of a slice from a DataFrame.\n",
      "Try using .loc[row_indexer,col_indexer] = value instead\n",
      "\n",
      "See the caveats in the documentation: https://pandas.pydata.org/pandas-docs/stable/user_guide/indexing.html#returning-a-view-versus-a-copy\n",
      "  ocon_pos['Z'] = 0\n",
      "/var/folders/q1/q9_ky6lj68g7kv_5x5_pd9jw0000gp/T/ipykernel_36129/4268212721.py:2: SettingWithCopyWarning: \n",
      "A value is trying to be set on a copy of a slice from a DataFrame.\n",
      "Try using .loc[row_indexer,col_indexer] = value instead\n",
      "\n",
      "See the caveats in the documentation: https://pandas.pydata.org/pandas-docs/stable/user_guide/indexing.html#returning-a-view-versus-a-copy\n",
      "  gasly_pos['Z'] = 0\n"
     ]
    }
   ],
   "source": [
    "ocon_pos['Z'] = 0\n",
    "gasly_pos['Z'] = 0\n",
    "reference_pos['Z'] = 0"
   ]
  },
  {
   "cell_type": "code",
   "execution_count": 341,
   "metadata": {},
   "outputs": [
    {
     "name": "stdout",
     "output_type": "stream",
     "text": [
      "84.338of10000 9995of10000 \r"
     ]
    }
   ],
   "source": [
    "i = 0\n",
    "for (idx, pos) in ocon_pos.iterrows():\n",
    "    i += 1\n",
    "    x = pos['X']\n",
    "    y = pos['Y']\n",
    "    z = pos['Z']\n",
    "    t = pos['Time'].total_seconds()\n",
    "\n",
    "    fig = plt.figure(figsize=(5,5))\n",
    "    ax = fig.add_subplot(111, projection='3d')\n",
    "    ax.set_title('t = {:0.3f} seconds'.format(t))\n",
    "    ax.set_xlabel(\"x\")\n",
    "    ax.set_ylabel(\"y\")\n",
    "    ax.set_zlabel(\"z\")\n",
    "\n",
    "    ax.set_xlim3d([-50 + x, 200 + x])\n",
    "    ax.set_ylim3d([-150 + y, 400 + y])\n",
    "    #ax.set_zlim3d([-100 + z, 400 + z])\n",
    "    ax.set_axis_off()\n",
    "\n",
    "    min_idx = 0 if idx - 25 < 0 else idx - 25\n",
    "\n",
    "    ax.plot(reference_pos['X'], reference_pos['Y'], reference_pos['Z'], color='black', lw=10)\n",
    "\n",
    "    # ocon\n",
    "    ocon_trail = ocon_pos[min_idx:idx + 1]\n",
    "    ax.plot(ocon_trail['X'], ocon_trail['Y'], ocon_trail['Z'], color='red', alpha=0.8)\n",
    "    gasly_trail = gasly_pos[min_idx:idx + 1]\n",
    "    ax.plot(gasly_trail['X'], gasly_trail['Y'], gasly_trail['Z'], color='deepskyblue', alpha=0.8)\n",
    "    \n",
    "    ax.plot(x, y, z, alpha=1, markersize = 6, marker='.', color='red')\n",
    "    # gasly\n",
    "    x_2 = gasly_pos.loc[idx]['X']\n",
    "    y_2 = gasly_pos.loc[idx]['Y']\n",
    "    z_2 = gasly_pos.loc[idx]['Z']\n",
    "    #ax.plot(gasly_pos['X'], gasly_pos['Y'], gasly_pos['Z'], color='cornflowerblue')\n",
    "    ax.plot(x_2, y_2, z_2, alpha=1, markersize = 6, marker='.', color='deepskyblue')\n",
    "\n",
    "\n",
    "    #ax.view_init(10, -10)\n",
    "    fig.savefig('./vid_img/abudhabi_follow_resampled/{:05d}.jpg'.format(int(t * 1000)), dpi=256)\n",
    "    #plt.show()\n",
    "    plt.close()\n",
    "    print(\"{}of{} \\r\".format(t,10000), end=\"\")\n",
    "    #if i > 10:\n",
    "    #    break"
   ]
  },
  {
   "cell_type": "code",
   "execution_count": 308,
   "metadata": {},
   "outputs": [
    {
     "data": {
      "text/plain": [
       "[<matplotlib.lines.Line2D at 0x1606b0c50>]"
      ]
     },
     "execution_count": 308,
     "metadata": {},
     "output_type": "execute_result"
    },
    {
     "data": {
      "image/png": "[encoded data removed]",
      "text/plain": [
       "<Figure size 640x480 with 1 Axes>"
      ]
     },
     "metadata": {},
     "output_type": "display_data"
    }
   ],
   "source": [
    "ax = plt.subplot()\n",
    "ax.plot(ocon_pos['Z'])"
   ]
  },
  {
   "cell_type": "code",
   "execution_count": 178,
   "metadata": {},
   "outputs": [
    {
     "data": {
      "text/plain": [
       "'./vid_img/abudhabi_follow_resampled/file_list.txt'"
      ]
     },
     "execution_count": 178,
     "metadata": {},
     "output_type": "execute_result"
    }
   ],
   "source": [
    "import os\n",
    "\n",
    "# Get all files in the current directory\n",
    "files = os.listdir('./vid_img/abudhabi_follow_resampled/')\n",
    "\n",
    "# Filter for .jpg files\n",
    "jpg_files = [f for f in files if f.endswith('.jpg')]\n",
    "\n",
    "# Sort the files to ensure order\n",
    "jpg_files.sort()\n",
    "\n",
    "# Path for the output file\n",
    "output_file_path = './vid_img/abudhabi_follow_resampled/file_list.txt'\n",
    "\n",
    "# Write the file paths to the output file\n",
    "with open(output_file_path, 'w') as output_file:\n",
    "    for jpg_file in jpg_files:\n",
    "        output_file.write(f\"file '{jpg_file}'\\n\")\n",
    "\n",
    "output_file_path"
   ]
  },
  {
   "cell_type": "code",
   "execution_count": 189,
   "metadata": {},
   "outputs": [
    {
     "name": "stdout",
     "output_type": "stream",
     "text": [
      "framerate ->  20\n"
     ]
    }
   ],
   "source": [
    "print('framerate -> ', round(1 / (ocon_lap['LapTime'] / len(ocon_pos_resampled)).total_seconds()))"
   ]
  }
 ],
 "metadata": {
  "kernelspec": {
   "display_name": "gpt",
   "language": "python",
   "name": "python3"
  },
  "language_info": {
   "codemirror_mode": {
    "name": "ipython",
    "version": 3
   },
   "file_extension": ".py",
   "mimetype": "text/x-python",
   "name": "python",
   "nbconvert_exporter": "python",
   "pygments_lexer": "ipython3",
   "version": "3.1.0"
  }
 },
 "nbformat": 4,
 "nbformat_minor": 2
}
